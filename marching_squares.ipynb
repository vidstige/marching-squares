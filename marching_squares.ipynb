{
 "cells": [
  {
   "cell_type": "markdown",
   "id": "e1623e5f-433c-4e31-a0ef-da04406c42b1",
   "metadata": {},
   "source": [
    "# Marching Squares\n",
    "Takes a scalar field such as the Signed Distance Function (SDF) and generates contours consisting of line segment. A similar algorithm exists in 3D where a scalar field is turned into surfaces consisting of triangles."
   ]
  },
  {
   "cell_type": "code",
   "execution_count": null,
   "id": "6a4f144e-490a-484e-b17c-76be4987b300",
   "metadata": {},
   "outputs": [],
   "source": [
    "import numpy as np"
   ]
  },
  {
   "cell_type": "code",
   "execution_count": null,
   "id": "efa11dca-1d43-4a05-9cd3-8de4465faa19",
   "metadata": {},
   "outputs": [],
   "source": [
    "import seaborn as sns\n",
    "sns.set_theme()\n",
    "sns.set(style='darkgrid', context='talk', palette='Pastel1')\n",
    "sns.set(style='dark')  # get rid of gridlines"
   ]
  },
  {
   "cell_type": "code",
   "execution_count": null,
   "id": "d42e5521-6da9-4a05-a31a-b31436e028d7",
   "metadata": {},
   "outputs": [],
   "source": [
    "# configure matlab for notebooks\n",
    "import matplotlib.pyplot as plt\n",
    "plt.rcParams['figure.figsize'] = [12, 5]"
   ]
  },
  {
   "cell_type": "code",
   "execution_count": null,
   "id": "e7cf5ced-53d1-4c4a-a665-df93eba9e3c3",
   "metadata": {},
   "outputs": [],
   "source": [
    "# load points cloud from the field interpolation cookie talk\n",
    "sdf = np.load('sdf-512-16.00.npy')\n",
    "sdf.shape"
   ]
  },
  {
   "cell_type": "code",
   "execution_count": null,
   "id": "945f982b-86ce-462a-90a1-246bca2c4c8c",
   "metadata": {},
   "outputs": [],
   "source": [
    "plt.imshow(sdf); plt.colorbar()"
   ]
  },
  {
   "cell_type": "code",
   "execution_count": null,
   "id": "7372f4d4-102d-447e-88e2-7cc79d742579",
   "metadata": {},
   "outputs": [],
   "source": [
    "plt.contour(sdf, levels=[0]); plt.axis('equal'); plt.gca().invert_yaxis()"
   ]
  },
  {
   "cell_type": "markdown",
   "id": "f38f6a96-bf61-43d4-9e88-0f39941fe85f",
   "metadata": {},
   "source": [
    "## Algorithm\n",
    "* Each 2x2 block of the SDF is iterated\n",
    "* Each block is thresholded against the level (e.g. 0) as either below or not below.\n",
    "* There are 16 (2^4) different configurations each yielding a specific set of lines (or no line) cutting the square\n",
    "* The exact vertex positions of the lines are computed by lineary interpolating the positions"
   ]
  },
  {
   "cell_type": "code",
   "execution_count": null,
   "id": "76543749-233a-45f5-b819-87dac19260a1",
   "metadata": {},
   "outputs": [],
   "source": [
    "from mpl_toolkits.axes_grid1.inset_locator import mark_inset, zoomed_inset_axes\n",
    "\n",
    "h, w = sdf.shape\n",
    "x, y = 8, 8  # top-left cordinate of crop-out\n",
    "zw, zh = 2, 2  # size of out-crop\n",
    "plt.imshow(sdf, origin='upper'); plt.colorbar()\n",
    "axins = plt.gca().inset_axes(\n",
    "    [0.54, 0.5, 0.47, 0.47],\n",
    "    xlim=(x, x+zw-1), ylim=(y, y+zh-1),\n",
    "    xticklabels=[], yticklabels=[],\n",
    ")\n",
    "axins.imshow(sdf, origin='upper')\n",
    "mark_inset(plt.gca(), axins, loc1=2, loc2=3, edgecolor=\"0.6\")\n",
    "plt.show()"
   ]
  },
  {
   "cell_type": "code",
   "execution_count": null,
   "id": "07645769-f1a8-4097-8f80-be3ad0fefc83",
   "metadata": {},
   "outputs": [],
   "source": [
    "# Vertex positions within a single 2x2 block\n",
    "#\n",
    "# 0 -- 1\n",
    "# |    |\n",
    "# 2 -- 3"
   ]
  },
  {
   "cell_type": "code",
   "execution_count": null,
   "id": "627cf2d8-b9aa-40a2-b943-f44213cf2ed7",
   "metadata": {},
   "outputs": [],
   "source": [
    "values = np.array([\n",
    "    sdf[y, x],\n",
    "    sdf[y, x + 1],\n",
    "    sdf[y + 1, x],\n",
    "    sdf[y + 1, x + 1],\n",
    "])\n",
    "print(values)\n",
    "print(values < 0)"
   ]
  },
  {
   "cell_type": "code",
   "execution_count": null,
   "id": "0534941e-65cd-4538-b342-2cdb40be210b",
   "metadata": {},
   "outputs": [],
   "source": [
    "# A list of the sixteen variants.\n",
    "# Each entry contains a sequence of pairs of edges. For example entry #1 contains one entry with the edge pair\n",
    "# (0, 2) and (0, 1). This will create a line between edges left edge (0, 2) and the top edge (0, 1). Note that \n",
    "# two variants contains no images (when all four values are either below or above the level). Also two variants will\n",
    "# yield two lines\n",
    "LOOKUP = [\n",
    "    (),\n",
    "    (((0, 2), (0, 1)),),\n",
    "    (((0, 1), (1, 3)),),\n",
    "    (((0, 2), (1, 3)),),\n",
    "    (((0, 2), (2, 3)),),\n",
    "    (((0, 1), (2, 3)),),\n",
    "    (((0, 2), (2, 3)), ((0, 1), (1, 3))),\n",
    "    (((2, 3), (1, 3)),),\n",
    "    (((1, 3), (2, 3)),),\n",
    "    (((0, 2), (0, 1)), ((2, 3), (1, 3))),\n",
    "    (((2, 3), (0, 1)),),\n",
    "    (((2, 3), (0, 2)),),\n",
    "    (((1, 3), (0, 2)),),\n",
    "    (((1, 3), (0, 1)),),\n",
    "    (((0, 1), (0, 2)),),\n",
    "    (),    \n",
    "]"
   ]
  },
  {
   "cell_type": "code",
   "execution_count": null,
   "id": "3296f22a-b7e3-406d-b063-219f3e425946",
   "metadata": {},
   "outputs": [],
   "source": [
    "def average_edge(points: np.ndarray, edge: Edge) -> np.ndarray:\n",
    "    i0, i1 = edge\n",
    "    return (points[i0] + points[i1]) * 0.5"
   ]
  },
  {
   "cell_type": "code",
   "execution_count": null,
   "id": "f0f38866-f1a9-4898-819f-c0abf226df41",
   "metadata": {},
   "outputs": [],
   "source": [
    "def to_bits(number: int, n: int) -> np.ndarray:\n",
    "    return np.array([bool(number & (1 << i)) for i in range(n)], dtype=bool)\n",
    "\n",
    "POINTS = np.array([\n",
    "    (0, 0),\n",
    "    (1, 0),\n",
    "    (0, 1),\n",
    "    (1, 1),\n",
    "])\n",
    "fig, axes = plt.subplots(4, 4)\n",
    "plt.subplots_adjust(wspace=0.5, hspace=0.8)\n",
    "for i in range(16):\n",
    "    row, column = i // 4, i % 4  # layout the variants in a 4x4 grid\n",
    "    plot = axes[row, column]\n",
    "    plot.set_title(f'Case {i}')\n",
    "    margin = 0.1\n",
    "    plot.axis('off'); plot.axis('equal'); plot.axis([0 - margin, 1 + margin, 1 + margin, 0 - margin])\n",
    "\n",
    "    bits = to_bits(i, n=4)  # find bits that contain points with value BELOW level\n",
    "    plot.scatter(POINTS[bits, 0], POINTS[bits, 1], facecolors='black', edgecolors='black')\n",
    "    plot.scatter(POINTS[~bits, 0], POINTS[~bits, 1], facecolors='none', edgecolors='black')\n",
    "    for e0, e1 in LOOKUP[i]:\n",
    "        a, b = average_edge(POINTS, e0), average_edge(POINTS, e1)\n",
    "        plot.plot([a[0], b[0]], [a[1], b[1]], color='purple')"
   ]
  },
  {
   "cell_type": "code",
   "execution_count": null,
   "id": "e1750a3c-3df9-4f60-a494-f0e69b8efd2c",
   "metadata": {},
   "outputs": [],
   "source": [
    "from typing import Tuple\n",
    "\n",
    "\n",
    "def marching_squares_nolerp(sdf: np.ndarray, level: float = .0) -> Tuple[np.ndarray, np.ndarray]:\n",
    "    h, w = sdf.shape\n",
    "    vertices = []\n",
    "    lines = []\n",
    "    for y in range(h - 1):\n",
    "        for x in range(w - 1):\n",
    "            values = np.array([\n",
    "                sdf[y, x],\n",
    "                sdf[y, x + 1],\n",
    "                sdf[y + 1, x],\n",
    "                sdf[y + 1, x + 1],\n",
    "            ])\n",
    "            block = values < level\n",
    "            index = sum(int(bit) * 1 << i for i, bit in enumerate(block.ravel()))\n",
    "            p = np.array([x, y])\n",
    "            for e0, e1 in LOOKUP[index]:\n",
    "                a, b = average_edge(POINTS, e0), average_edge(POINTS, e1)\n",
    "                lines.append((len(vertices), len(vertices) + 1))\n",
    "                vertices.extend([p + a, p + b])\n",
    "\n",
    "    return np.vstack(vertices), lines\n",
    "\n",
    "vertices, lines = marching_squares_nolerp(sdf)"
   ]
  },
  {
   "cell_type": "code",
   "execution_count": null,
   "id": "1962d7c0-18f1-4bf1-ab8c-9ccfac04d663",
   "metadata": {},
   "outputs": [],
   "source": [
    "from PIL import Image\n",
    "from PIL import ImageDraw\n",
    "\n",
    "def draw_lines(vertices: np.ndarray, lines: List[Tuple[int, int]], linewidth: int = 2) -> None:\n",
    "    im = Image.new('RGB', (1024, 512), (0xff, 0xff, 0xff))\n",
    "    draw = ImageDraw.Draw(im)\n",
    "    color = (0x00, 0x00, 0x00)\n",
    "    scale = 16\n",
    "    for a, b in lines:\n",
    "        draw.line((tuple(scale * vertices[a]), tuple(scale * vertices[b])), fill=color, width=linewidth)\n",
    "    return im\n",
    "\n",
    "draw_lines(vertices, lines)"
   ]
  },
  {
   "cell_type": "code",
   "execution_count": null,
   "id": "f2d9b6fb-5175-4f38-8777-38de0e055b29",
   "metadata": {},
   "outputs": [],
   "source": [
    "def interpolate_edge(points: np.ndarray, values: np.ndarray, edge: Edge, level: float) -> np.ndarray:\n",
    "    i0, i1 = edge\n",
    "    v0, v1 = values[i0], values[i1]\n",
    "    # make sure v0 is smaller that v1\n",
    "    if v0 > v1:\n",
    "        i0, i1 = i1, i0\n",
    "        v0, v1 = v1, v0\n",
    "\n",
    "    # compute parameter\n",
    "    t = (level - v0) / (v1 - v0)\n",
    "    # lerp\n",
    "    return (1 - t) * points[i0] + t * points[i1]\n",
    "\n",
    "\n",
    "def marching_squares(sdf: np.ndarray, level: float = .0) -> Tuple[np.ndarray, np.ndarray]:\n",
    "    h, w = sdf.shape\n",
    "    vertices = []\n",
    "    lines = []\n",
    "    for y in range(h - 1):\n",
    "        for x in range(w - 1):\n",
    "            values = np.array([\n",
    "                sdf[y, x],\n",
    "                sdf[y, x + 1],\n",
    "                sdf[y + 1, x],\n",
    "                sdf[y + 1, x + 1],\n",
    "            ])\n",
    "            block = values < level\n",
    "            index = sum(int(bit) * 1 << i for i, bit in enumerate(block.ravel()))\n",
    "            p = np.array([x, y])\n",
    "            for e0, e1 in LOOKUP[index]:\n",
    "                a, b = interpolate_edge(POINTS, values, e0, level), interpolate_edge(POINTS, values, e1, level)\n",
    "                lines.append((len(vertices), len(vertices) + 1))\n",
    "                vertices.extend([p + a, p + b])\n",
    "\n",
    "    return np.vstack(vertices), lines\n",
    "\n",
    "\n",
    "vertices, lines = marching_squares(sdf)\n",
    "draw_lines(vertices, lines)"
   ]
  },
  {
   "cell_type": "markdown",
   "id": "a466769d-a190-46c9-b531-5251a85a9252",
   "metadata": {},
   "source": [
    "## Questions?"
   ]
  }
 ],
 "metadata": {
  "kernelspec": {
   "display_name": "Python 3 (ipykernel)",
   "language": "python",
   "name": "python3"
  },
  "language_info": {
   "codemirror_mode": {
    "name": "ipython",
    "version": 3
   },
   "file_extension": ".py",
   "mimetype": "text/x-python",
   "name": "python",
   "nbconvert_exporter": "python",
   "pygments_lexer": "ipython3",
   "version": "3.10.12"
  }
 },
 "nbformat": 4,
 "nbformat_minor": 5
}
